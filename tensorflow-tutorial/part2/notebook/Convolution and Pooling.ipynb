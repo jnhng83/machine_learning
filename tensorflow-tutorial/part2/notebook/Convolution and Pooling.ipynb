{
 "cells": [
  {
   "cell_type": "markdown",
   "metadata": {},
   "source": [
    "#### Import Modules"
   ]
  },
  {
   "cell_type": "code",
   "execution_count": 1,
   "metadata": {
    "collapsed": true
   },
   "outputs": [],
   "source": [
    "import numpy as np\n",
    "import tensorflow as tf"
   ]
  },
  {
   "cell_type": "markdown",
   "metadata": {},
   "source": [
    "#### Generate 1D Array"
   ]
  },
  {
   "cell_type": "code",
   "execution_count": 80,
   "metadata": {
    "collapsed": false
   },
   "outputs": [],
   "source": [
    "arr_1d = np.array([0, 1, 2, 3, 4]).reshape(1,5,1).astype(np.float32)\n",
    "#arr_1d = np.array([0, 1, 2, 3, 4, 5, 6, 7, 8, 9]).reshape(1,5,2).astype(np.float32)\n",
    "weight_1d = np.array([-1, 0, 1]).reshape(3,1,1).astype(np.float32)\n",
    "#weight_1d = np.array([-1, 0, 1, -2, 0, 2]).reshape(3,2,1).astype(np.float32)\n",
    "\n",
    "tf_arr_1d = tf.constant(arr_1d, name='arr_1d')\n",
    "tf_weight_1d = tf.Variable(weight_1d, name='weight_1d')"
   ]
  },
  {
   "cell_type": "markdown",
   "metadata": {
    "collapsed": true
   },
   "source": [
    "#### Compute 1D Convolution"
   ]
  },
  {
   "cell_type": "code",
   "execution_count": 81,
   "metadata": {
    "collapsed": false
   },
   "outputs": [
    {
     "name": "stdout",
     "output_type": "stream",
     "text": [
      "(array([[[ 2.],\n",
      "        [ 2.],\n",
      "        [ 2.]]], dtype=float32), (1, 3, 1))\n"
     ]
    }
   ],
   "source": [
    "tf_conv1d_out = tf.nn.conv1d(value=tf_arr_1d, filters=weight_1d, stride=1, padding='VALID', \n",
    "                          data_format='NHWC', use_cudnn_on_gpu=True, name='conv1d' )\n",
    "\n",
    "with tf.Session() as sess:\n",
    "    conv1d_out = sess.run(tf_conv1d_out)\n",
    "    print(conv1d_out, np.shape(conv1d_out))"
   ]
  },
  {
   "cell_type": "markdown",
   "metadata": {
    "collapsed": true
   },
   "source": [
    "#### Generate 2D Array"
   ]
  },
  {
   "cell_type": "code",
   "execution_count": 99,
   "metadata": {
    "collapsed": true
   },
   "outputs": [],
   "source": [
    "arr_2d = np.random.randint(0, 10, size=(1, 6, 6, 1)).astype(np.float32)\n",
    "weight_2d = np.random.randint(-2, 3, size=(3, 3, 1, 1)).astype(np.float32)\n",
    "\n",
    "tf_arr_2d = tf.constant(arr_2d, name='arr_2d')\n",
    "tf_weight_2d = tf.Variable(weight_2d, name='weight_2d')"
   ]
  },
  {
   "cell_type": "markdown",
   "metadata": {},
   "source": [
    "#### Compute 2D Convolution"
   ]
  },
  {
   "cell_type": "code",
   "execution_count": 100,
   "metadata": {
    "collapsed": false
   },
   "outputs": [
    {
     "name": "stdout",
     "output_type": "stream",
     "text": [
      "[[ 4.  0.  8.  3.  7.  1.]\n",
      " [ 0.  3.  3.  7.  7.  9.]\n",
      " [ 4.  9.  5.  7.  8.  7.]\n",
      " [ 7.  1.  3.  2.  5.  8.]\n",
      " [ 7.  1.  4.  5.  0.  6.]\n",
      " [ 1.  8.  6.  6.  2.  1.]]\n",
      "[[-1.  0.  1.]\n",
      " [ 0.  0. -2.]\n",
      " [-2.  2.  2.]]\n",
      "[[ 18.  -5.   5.  -4.]\n",
      " [-13.  -2.  -4.  10.]\n",
      " [ -9.  10.  -5. -14.]\n",
      " [ 14.  -1.   6. -12.]]\n"
     ]
    }
   ],
   "source": [
    "tf_conv2d_out = tf.nn.conv2d(input=tf_arr_2d, filter=weight_2d, strides=(1,1,1,1), padding='VALID', \n",
    "                          data_format='NHWC', use_cudnn_on_gpu=True, name='conv2d' )\n",
    "\n",
    "with tf.Session() as sess:\n",
    "    conv2d_out = sess.run(tf_conv2d_out)\n",
    "    \n",
    "print(arr_2d[0,:,:,0])\n",
    "print(weight_2d[:,:,0,0])\n",
    "print(conv2d_out[0,:,:,0])"
   ]
  },
  {
   "cell_type": "markdown",
   "metadata": {
    "collapsed": true
   },
   "source": [
    "#### Compute 2D Pooling"
   ]
  },
  {
   "cell_type": "code",
   "execution_count": 106,
   "metadata": {
    "collapsed": false
   },
   "outputs": [
    {
     "name": "stdout",
     "output_type": "stream",
     "text": [
      "[[-0.5   1.75]\n",
      " [ 3.5  -6.25]]\n",
      "[[ 18.  10.]\n",
      " [ 14.   6.]]\n"
     ]
    }
   ],
   "source": [
    "tf_avg_pool2d = tf.nn.avg_pool(value=tf_conv2d_out, ksize=(1,2,2,1), strides=(1,2,2,1), \n",
    "                               padding='VALID', data_format='NHWC', name='avg_pool2d')\n",
    "\n",
    "tf_max_pool2d = tf.nn.max_pool(value=tf_conv2d_out, ksize=(1,3,3,1), strides=(1,1,1,1), \n",
    "                               padding='SAME', data_format='NHWC', name='max_pool2d')\n",
    "\n",
    "with tf.Session() as sess:\n",
    "    avg_pool2d_out = sess.run(tf_avg_pool2d)\n",
    "    max_pool2d_out = sess.run(tf_max_pool2d)\n",
    "    \n",
    "print(avg_pool2d_out[0,:,:,0])\n",
    "print(max_pool2d_out[0,:,:,0])"
   ]
  }
 ],
 "metadata": {
  "kernelspec": {
   "display_name": "Python 2",
   "language": "python",
   "name": "python2"
  },
  "language_info": {
   "codemirror_mode": {
    "name": "ipython",
    "version": 2
   },
   "file_extension": ".py",
   "mimetype": "text/x-python",
   "name": "python",
   "nbconvert_exporter": "python",
   "pygments_lexer": "ipython2",
   "version": "2.7.12"
  }
 },
 "nbformat": 4,
 "nbformat_minor": 0
}
