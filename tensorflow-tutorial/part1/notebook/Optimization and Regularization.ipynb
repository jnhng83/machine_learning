{
 "cells": [
  {
   "cell_type": "markdown",
   "metadata": {},
   "source": [
    "### Learning Curve and Learning Rate Decay"
   ]
  },
  {
   "cell_type": "code",
   "execution_count": 1,
   "metadata": {
    "collapsed": true
   },
   "outputs": [],
   "source": [
    "import tensorflow as tf\n",
    "import numpy as np"
   ]
  },
  {
   "cell_type": "code",
   "execution_count": 2,
   "metadata": {
    "collapsed": true
   },
   "outputs": [],
   "source": [
    "# x and y are placeholders for our training data\n",
    "x = tf.placeholder(\"float\")\n",
    "y = tf.placeholder(\"float\")\n",
    "# w is the variable storing our values. It is initialised with starting \"guesses\"\n",
    "# w[0] is the \"a\" in our equation, w[1] is the \"b\"\n",
    "w = tf.Variable([1.0, 2.0], name=\"w\")\n",
    "# Our model of y = a*x + b\n",
    "y_model = tf.mul(x, w[0]) + w[1]\n",
    "\n",
    "# Our error is defined as the square of the differences\n",
    "error = tf.square(y - y_model)"
   ]
  },
  {
   "cell_type": "code",
   "execution_count": 6,
   "metadata": {
    "collapsed": false
   },
   "outputs": [
    {
     "name": "stdout",
     "output_type": "stream",
     "text": [
      "Iteration :  0,    Error : 98.45084\n",
      "Iteration :  1,    Error : 9.87113\n",
      "Iteration :  2,    Error : 8.20545\n",
      "Iteration :  3,    Error : 2.48245\n",
      "Iteration :  4,    Error : 9.87326\n",
      "Iteration :  5,    Error : 5.84021\n",
      "Iteration :  6,    Error : 6.60355\n",
      "Iteration :  7,    Error : 1.12021\n",
      "Iteration :  8,    Error : 0.72825\n",
      "Iteration :  9,    Error : 0.40259\n",
      "Iteration : 10,    Error : 1.47652\n",
      "Iteration : 11,    Error : 0.31141\n",
      "Iteration : 12,    Error : 3.77790\n",
      "Iteration : 13,    Error : 0.05251\n",
      "Iteration : 14,    Error : 4.13647\n",
      "Iteration : 15,    Error : 25.97292\n",
      "Iteration : 16,    Error : 11.25402\n",
      "Iteration : 17,    Error : 9.86255\n",
      "Iteration : 18,    Error : 2.45489\n",
      "Iteration : 19,    Error : 0.29305\n",
      "Iteration : 20,    Error : 0.37571\n",
      "Iteration : 21,    Error : 4.18918\n",
      "Iteration : 22,    Error : 1.54959\n",
      "Iteration : 23,    Error : 9.57429\n",
      "Iteration : 24,    Error : 0.97009\n",
      "Iteration : 25,    Error : 9.80473\n",
      "Iteration : 26,    Error : 0.62020\n",
      "Iteration : 27,    Error : 1.24963\n",
      "Iteration : 28,    Error : 7.86816\n",
      "Iteration : 29,    Error : 0.15402\n",
      "Iteration : 30,    Error : 2.56086\n",
      "Iteration : 31,    Error : 0.08561\n",
      "Iteration : 32,    Error : 0.53805\n",
      "Iteration : 33,    Error : 0.45542\n",
      "Iteration : 34,    Error : 0.01830\n",
      "Iteration : 35,    Error : 0.08462\n",
      "Iteration : 36,    Error : 0.16600\n",
      "Iteration : 37,    Error : 0.24188\n",
      "Iteration : 38,    Error : 2.35473\n",
      "Iteration : 39,    Error : 1.15318\n",
      "Iteration : 40,    Error : 0.00009\n",
      "Iteration : 41,    Error : 0.16732\n",
      "Iteration : 42,    Error : 1.57905\n",
      "Iteration : 43,    Error : 0.68568\n",
      "Iteration : 44,    Error : 8.89099\n",
      "Iteration : 45,    Error : 5.20972\n",
      "Iteration : 46,    Error : 0.12938\n",
      "Iteration : 47,    Error : 0.09981\n",
      "Iteration : 48,    Error : 0.89657\n",
      "Iteration : 49,    Error : 0.01768\n",
      "Iteration : 50,    Error : 0.03016\n",
      "Iteration : 51,    Error : 0.01410\n",
      "Iteration : 52,    Error : 3.17753\n",
      "Iteration : 53,    Error : 2.90028\n",
      "Iteration : 54,    Error : 0.12339\n",
      "Iteration : 55,    Error : 0.00553\n",
      "Iteration : 56,    Error : 0.00995\n",
      "Iteration : 57,    Error : 1.22795\n",
      "Iteration : 58,    Error : 1.76376\n",
      "Iteration : 59,    Error : 0.01563\n",
      "Iteration : 60,    Error : 1.09210\n",
      "Iteration : 61,    Error : 0.43042\n",
      "Iteration : 62,    Error : 1.07170\n",
      "Iteration : 63,    Error : 0.42035\n",
      "Iteration : 64,    Error : 0.20382\n",
      "Iteration : 65,    Error : 0.03487\n",
      "Iteration : 66,    Error : 0.35645\n",
      "Iteration : 67,    Error : 5.43611\n",
      "Iteration : 68,    Error : 1.05982\n",
      "Iteration : 69,    Error : 0.00368\n",
      "Iteration : 70,    Error : 0.01672\n",
      "Iteration : 71,    Error : 0.58956\n",
      "Iteration : 72,    Error : 3.11966\n",
      "Iteration : 73,    Error : 0.93750\n",
      "Iteration : 74,    Error : 0.94785\n",
      "Iteration : 75,    Error : 0.38504\n",
      "Iteration : 76,    Error : 1.75704\n",
      "Iteration : 77,    Error : 1.04066\n",
      "Iteration : 78,    Error : 0.19658\n",
      "Iteration : 79,    Error : 0.17453\n",
      "Iteration : 80,    Error : 0.99363\n",
      "Iteration : 81,    Error : 1.92218\n",
      "Iteration : 82,    Error : 0.00704\n",
      "Iteration : 83,    Error : 0.38619\n",
      "Iteration : 84,    Error : 6.48069\n",
      "Iteration : 85,    Error : 0.11638\n",
      "Iteration : 86,    Error : 0.15112\n",
      "Iteration : 87,    Error : 1.40632\n",
      "Iteration : 88,    Error : 10.31850\n",
      "Iteration : 89,    Error : 0.23814\n",
      "Iteration : 90,    Error : 3.12995\n",
      "Iteration : 91,    Error : 0.53062\n",
      "Iteration : 92,    Error : 0.84680\n",
      "Iteration : 93,    Error : 0.00406\n",
      "Iteration : 94,    Error : 0.56634\n",
      "Iteration : 95,    Error : 0.26774\n",
      "Iteration : 96,    Error : 0.72808\n",
      "Iteration : 97,    Error : 2.66423\n",
      "Iteration : 98,    Error : 0.00117\n",
      "Iteration : 99,    Error : 0.92190\n",
      "Predicted model: 2.465x + 3.022\n"
     ]
    }
   ],
   "source": [
    "# The Gradient Descent Optimizer does the heavy lifting\n",
    "global_step = tf.Variable(0, trainable=False)\n",
    "init_learning_rate = 0.01\n",
    "decay_learning_rate = tf.train.exponential_decay(init_learning_rate, global_step, 10, 0.9, staircase=True)\n",
    "#train_op = tf.train.GradientDescentOptimizer(init_learning_rate).minimize(error)\n",
    "train_op = tf.train.GradientDescentOptimizer(decay_learning_rate).minimize(error, global_step=global_step)\n",
    "\n",
    "# Normal TensorFlow - initialize values, create a session and run the model\n",
    "model = tf.global_variables_initializer()\n",
    "\n",
    "errors = []\n",
    "with tf.Session() as session:\n",
    "    session.run(model)\n",
    "    for i in range(100):\n",
    "        x_train = tf.random_normal((1,), mean=5, stddev=2.0)\n",
    "        y_train = x_train * 2 + 6\n",
    "        x_value, y_value = session.run([x_train, y_train])\n",
    "        _, error_value = session.run([train_op, error], feed_dict={x: x_value, y: y_value})\n",
    "        print(\"Iteration :{a:3d},    Error : {b:5.5f}\".format(a=i, b=error_value[0]))\n",
    "        errors.append(error_value)\n",
    "    w_value = session.run(w)\n",
    "    print(\"Predicted model: {a:.3f}x + {b:.3f}\".format(a=w_value[0], b=w_value[1]))\n"
   ]
  },
  {
   "cell_type": "code",
   "execution_count": 7,
   "metadata": {
    "collapsed": false
   },
   "outputs": [
    {
     "name": "stderr",
     "output_type": "stream",
     "text": [
      "C:\\Users\\kyuhw\\Anaconda3\\lib\\site-packages\\numpy\\core\\_methods.py:59: RuntimeWarning: Mean of empty slice.\n",
      "  warnings.warn(\"Mean of empty slice.\", RuntimeWarning)\n",
      "C:\\Users\\kyuhw\\Anaconda3\\lib\\site-packages\\numpy\\core\\_methods.py:70: RuntimeWarning: invalid value encountered in double_scalars\n",
      "  ret = ret.dtype.type(ret / rcount)\n"
     ]
    },
    {
     "data": {
      "image/png": "[encoded data removed]",
      "text/plain": [
       "<matplotlib.figure.Figure at 0x22321ee9780>"
      ]
     },
     "metadata": {},
     "output_type": "display_data"
    }
   ],
   "source": [
    "import matplotlib.pyplot as plt\n",
    "plt.plot([np.mean(errors[i-20:i]) for i in range(len(errors))])\n",
    "plt.show()"
   ]
  },
  {
   "cell_type": "markdown",
   "metadata": {
    "collapsed": true
   },
   "source": [
    "[TensorFlow Optimizers](https://www.tensorflow.org/api_docs/python/train/optimizers)\n",
    "\n",
    "[TensorFlow Regularizers](https://www.tensorflow.org/api_docs/python/contrib.layers/regularizers)"
   ]
  }
 ],
 "metadata": {
  "anaconda-cloud": {},
  "kernelspec": {
   "display_name": "Python [conda root]",
   "language": "python",
   "name": "conda-root-py"
  },
  "language_info": {
   "codemirror_mode": {
    "name": "ipython",
    "version": 3
   },
   "file_extension": ".py",
   "mimetype": "text/x-python",
   "name": "python",
   "nbconvert_exporter": "python",
   "pygments_lexer": "ipython3",
   "version": "3.5.2"
  }
 },
 "nbformat": 4,
 "nbformat_minor": 1
}
