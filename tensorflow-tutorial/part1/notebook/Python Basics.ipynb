{
 "cells": [
  {
   "cell_type": "markdown",
   "metadata": {},
   "source": [
    "# Python Basics\n",
    "### This is markdown section\n",
    "(#) is used for section headings. More (#) for subsections\n",
    "\n",
    "(*) is used for bullet list\n",
    "\n",
    "\"Control + Enter\" to run section\n",
    "\n",
    "(Essential)\n",
    "* Variable and Operations\n",
    "* String and Print Formatting\n",
    "* List and Dictionary\n",
    "* Flow Control\n",
    "* Functions\n",
    "* Importing Libraries\n",
    "* Numpy\n",
    "\n",
    "(Optional)\n",
    "* Lambda Functions\n",
    "* Classes\n",
    "* Writing and Reading File\n",
    "* Exceptions"
   ]
  },
  {
   "cell_type": "markdown",
   "metadata": {},
   "source": [
    "## Variable and Arithmetic Operations"
   ]
  },
  {
   "cell_type": "code",
   "execution_count": 27,
   "metadata": {
    "collapsed": false
   },
   "outputs": [
    {
     "name": "stdout",
     "output_type": "stream",
     "text": [
      "10\n",
      "20\n",
      "30\n",
      "7.5\n",
      "10.0\n",
      "100.0\n",
      "2\n",
      "2.5\n",
      "1\n",
      "[0, 1, 2, 3, 4]\n"
     ]
    }
   ],
   "source": [
    "# Integer Variable\n",
    "intVal = 10\n",
    "print intVal\n",
    "\n",
    "# Addition\n",
    "intVal = intVal + 10\n",
    "print intVal\n",
    "\n",
    "intVal += 10\n",
    "print intVal\n",
    "\n",
    "# Float Variable\n",
    "floatVal = 5.0\n",
    "print floatVal + 2.5\n",
    "\n",
    "# Multiplication\n",
    "floatVal *= 2\n",
    "print floatVal\n",
    "\n",
    "# Power\n",
    "floatVal = floatVal ** 2\n",
    "print floatVal\n",
    "\n",
    "# Division\n",
    "print 5/2\n",
    "print 5.0/2\n",
    "\n",
    "# Remainder\n",
    "print 5%2"
   ]
  },
  {
   "cell_type": "markdown",
   "metadata": {},
   "source": [
    "## Strings and Print Formatting"
   ]
  },
  {
   "cell_type": "code",
   "execution_count": 83,
   "metadata": {
    "collapsed": false
   },
   "outputs": [
    {
     "name": "stdout",
     "output_type": "stream",
     "text": [
      "Hello,Python !!\n",
      "Welcome to Deep Learning !\n",
      "Shallow Learning !\n",
      "I Love Deep Learning !\n",
      "I am 20 years old and 180.50 cm tall.\n"
     ]
    }
   ],
   "source": [
    "# String Variable\n",
    "Str1 = \"Hello,\"\n",
    "Str2 = \"Python !!\"\n",
    "print Str1 + Str2\n",
    "\n",
    "# Printing String\n",
    "Str3 = \"Welcome\"\n",
    "Str4 = \"Deep Learning !\"\n",
    "print Str3 + \" to \" + Str4\n",
    "\n",
    "print Str4.replace('Deep', 'Shallow')\n",
    "\n",
    "# Print Formatting\n",
    "print \"I Love %s\" % Str4\n",
    "\n",
    "age = 20\n",
    "height = 180.5\n",
    "print \"I am %d years old and %.2f cm tall.\" %(age, height)\n"
   ]
  },
  {
   "cell_type": "markdown",
   "metadata": {},
   "source": [
    "## List and Dictionary"
   ]
  },
  {
   "cell_type": "code",
   "execution_count": 56,
   "metadata": {
    "collapsed": false
   },
   "outputs": [
    {
     "name": "stdout",
     "output_type": "stream",
     "text": [
      "6\n",
      "10\n",
      "[3, 4, 5]\n",
      "[1, 2, 3, 4, 5, 6, 7, 8, 11, 10]\n",
      "[2, 3, 4, 5, 6, 7, 8, 11, 10]\n",
      "9\n",
      "\n",
      "\n",
      "['Germany', 'France', 'England', 'Spain']\n",
      "['Germany', 'France', 'England', 'Spain', 'Italy']\n",
      "2\n",
      "['Germany', 'France', 'Spain', 'Italy']\n",
      "['France', 'Spain', 'Italy']\n",
      "['France', 'Spain', 'Italy', 'Greece', 'Netherland']\n",
      "\n",
      "\n",
      "40\n",
      "None\n",
      "{'Nationality': 'Unknown', 'Age': 35, 'Name': 'John', 'Job': None}\n",
      "45\n",
      "['Nationality', 'Age', 'Name', 'Job']\n",
      "['Unknown', 45, 'John', None]\n",
      "[('Nationality', 'Unknown'), ('Age', 45), ('Name', 'John'), ('Job', None)]\n"
     ]
    }
   ],
   "source": [
    "# Number List\n",
    "NumList = [1, 2, 3, 4, 5, 6, 7, 8, 9, 10]\n",
    "print NumList[5]\n",
    "print NumList[-1]\n",
    "print NumList[2:5]\n",
    "NumList[-2] = 11\n",
    "print NumList\n",
    "del NumList[0]\n",
    "print NumList\n",
    "print len(NumList)\n",
    "\n",
    "# New Line\n",
    "print \"\\n\"\n",
    "\n",
    "# String List\n",
    "EUNationList = [\"Germany\", \"France\", \"England\", \"Spain\"]\n",
    "print EUNationList\n",
    "EUNationList.append(\"Italy\")\n",
    "print EUNationList\n",
    "EngInd = EUNationList.index(\"England\")\n",
    "print EngInd\n",
    "EUNationList.pop(EngInd) #Brexit\n",
    "print EUNationList\n",
    "EUNationList.remove(\"Germany\") #Collapse of EU\n",
    "print EUNationList\n",
    "print EUNationList + [\"Greece\", \"Netherland\"]\n",
    "\n",
    "# New Line\n",
    "print \"\\n\"\n",
    "\n",
    "# Dictionary\n",
    "Person1 = {'Name' : 'John', 'Age' : 35, 'Job' : None}\n",
    "print Person1['Age'] + 5\n",
    "print Person1['Job']\n",
    "Person1[\"Nationality\"] = \"Unknown\"\n",
    "print Person1\n",
    "Person1[\"Age\"] += 10\n",
    "print Person1[\"Age\"]\n",
    "print Person1.keys()\n",
    "print Person1.values()\n",
    "print Person1.items()\n",
    "\n",
    "# The list of items in the dictionary has type 'Tuple'. \n",
    "# Tuples are immutable ; we cannot add or delete element of tuples. "
   ]
  },
  {
   "cell_type": "markdown",
   "metadata": {},
   "source": [
    "## Flow Control"
   ]
  },
  {
   "cell_type": "code",
   "execution_count": 93,
   "metadata": {
    "collapsed": false
   },
   "outputs": [
    {
     "name": "stdout",
     "output_type": "stream",
     "text": [
      "Nice Weather!\n",
      "\n",
      "\n",
      "2\n",
      "4\n",
      "8\n",
      "16\n",
      "32\n",
      "64\n",
      "128\n",
      "256\n",
      "512\n",
      "1024\n",
      "[2, 4, 8, 16, 32, 64, 128, 256, 512, 1024]\n",
      "\n",
      "\n",
      "Berlin\n",
      "Paris\n",
      "London\n",
      "Barcelona\n",
      "\n",
      "\n",
      "Your are 15 years old. Too young to drink!\n",
      "Your are 16 years old. Too young to drink!\n",
      "Your are 17 years old. Too young to drink!\n",
      "Your are 18 years old. Too young to drink!\n",
      "Your are 19 years old. Too young to drink!\n",
      "You finally became 20 years old. Drink Responsibly !\n"
     ]
    }
   ],
   "source": [
    "# If Statement\n",
    "Temp = 27\n",
    "if Temp >= 33 :\n",
    "    print \"Very Hot!\"\n",
    "elif Temp >= 28 :\n",
    "    print \"Little Hot!\"\n",
    "elif Temp >=20 :\n",
    "    print \"Nice Weather!\"\n",
    "elif Temp >=15 :\n",
    "    print \"Warm!\"\n",
    "elif Temp >5 :\n",
    "    print \"Little Cold!\"\n",
    "else :\n",
    "    print \"Too Cold !\"\n",
    "\n",
    "# New Line\n",
    "print \"\\n\"    \n",
    "    \n",
    "# For Loop\n",
    "for ind in range(10):\n",
    "    print 2**(ind+1)\n",
    "\n",
    "# List Comprehension\n",
    "PowerList = [2 ** (x+1) for x in range(10)]\n",
    "print PowerList\n",
    "    \n",
    "# New Line\n",
    "print \"\\n\"    \n",
    "    \n",
    "EUNationList = [\"Germany\", \"France\", \"England\", \"Spain\"]\n",
    "CapDict = {\"Germany\" : \"Berlin\", \"France\" : \"Paris\", \"England\" : \"London\", \"Spain\" : \"Barcelona\"}\n",
    "\n",
    "for nation in EUNationList :\n",
    "    print CapDict[nation]\n",
    "\n",
    "# New Line\n",
    "print \"\\n\"   \n",
    "    \n",
    "# While Loop\n",
    "Age = 15\n",
    "while Age < 20:\n",
    "    print \"Your are %d years old. Too young to drink!\" %Age\n",
    "    Age += 1\n",
    "else:\n",
    "    print \"You finally became %d years old. Drink Responsibly !\" %Age\n",
    "\n",
    "    "
   ]
  },
  {
   "cell_type": "markdown",
   "metadata": {},
   "source": [
    "## Functions"
   ]
  },
  {
   "cell_type": "code",
   "execution_count": 68,
   "metadata": {
    "collapsed": false
   },
   "outputs": [
    {
     "name": "stdout",
     "output_type": "stream",
     "text": [
      "Name is James\n",
      "Age is 50 \n",
      "\n",
      "Name is Jessy\n",
      "Age is 10 \n",
      "\n",
      "55\n"
     ]
    }
   ],
   "source": [
    "def print_info(Name, Age=10) :\n",
    "    print \"Name is %s\" %Name\n",
    "    print \"Age is %d \\n\" %Age\n",
    "    \n",
    "print_info(\"James\", 50)\n",
    "print_info(\"Jessy\")\n",
    "\n",
    "def sum_int_between(start_num, end_num) :\n",
    "    NumList = range(start_num, end_num+1)\n",
    "    return sum(NumList)\n",
    "\n",
    "print sum_int_between(1, 10)\n"
   ]
  },
  {
   "cell_type": "markdown",
   "metadata": {},
   "source": [
    "## Importing Libraries"
   ]
  },
  {
   "cell_type": "code",
   "execution_count": 80,
   "metadata": {
    "collapsed": false
   },
   "outputs": [
    {
     "name": "stdout",
     "output_type": "stream",
     "text": [
      "['.ipynb_checkpoints', 'Python Basics.ipynb', 'TensorFlow Basics.ipynb']\n",
      "['__doc__', '__name__', '__package__', 'acos', 'acosh', 'asin', 'asinh', 'atan', 'atan2', 'atanh', 'ceil', 'copysign', 'cos', 'cosh', 'degrees', 'e', 'erf', 'erfc', 'exp', 'expm1', 'fabs', 'factorial', 'floor', 'fmod', 'frexp', 'fsum', 'gamma', 'hypot', 'isinf', 'isnan', 'ldexp', 'lgamma', 'log', 'log10', 'log1p', 'modf', 'pi', 'pow', 'radians', 'sin', 'sinh', 'sqrt', 'tan', 'tanh', 'trunc']\n",
      "1.22464679915e-16\n",
      "-2.44929359829e-16 1.0\n"
     ]
    }
   ],
   "source": [
    "# How can we see all the files in the current directory?\n",
    "import os\n",
    "print os.listdir('./')\n",
    "\n",
    "import math\n",
    "MathModules = dir(math)\n",
    "print MathModules\n",
    "print math.sin(math.pi)\n",
    "\n",
    "from math import sin, cos, pi\n",
    "print sin(pi), cos(2*pi)\n",
    "# There are so many useful libraries for python. Numpy is one of most widely used library for numeric computation. "
   ]
  },
  {
   "cell_type": "markdown",
   "metadata": {},
   "source": [
    "## Numpy - Basic Arrays and Indexing"
   ]
  },
  {
   "cell_type": "code",
   "execution_count": 87,
   "metadata": {
    "collapsed": false
   },
   "outputs": [
    {
     "name": "stdout",
     "output_type": "stream",
     "text": [
      "<type 'numpy.ndarray'>\n",
      "(3,)\n",
      "1 2 3\n",
      "[5 2 3]\n",
      "(2, 3)\n",
      "1 2 4\n",
      "[[ 0.  0.]\n",
      " [ 0.  0.]]\n",
      "[[ 1.  1.]]\n",
      "[[ 1.  0.]\n",
      " [ 0.  1.]]\n",
      "[[ 0.30451157  0.9074601 ]\n",
      " [ 0.31602474  0.26850262]]\n",
      "\n",
      "----------------------------------------------------------------------------\n",
      "\n",
      "2\n",
      "77\n",
      "[5 6 7 8] (4,)\n",
      "[[5 6 7 8]] (1, 4)\n",
      "[ 2  6 10] (3,)\n",
      "[[ 2]\n",
      " [ 6]\n",
      " [10]] (3, 1)\n"
     ]
    }
   ],
   "source": [
    "import numpy as np\n",
    "\n",
    "#Basic Array \n",
    "a = np.array([1, 2, 3])  \n",
    "print type(a)            \n",
    "print a.shape            \n",
    "print a[0], a[1], a[2]   \n",
    "a[0] = 5                 \n",
    "print a                  \n",
    "\n",
    "b = np.array([[1,2,3],[4,5,6]])   \n",
    "print b.shape                     \n",
    "print b[0, 0], b[0, 1], b[1, 0]   \n",
    "\n",
    "a = np.zeros((2,2))  \n",
    "print a              \n",
    "                         \n",
    "b = np.ones((1,2))   \n",
    "print b              \n",
    "\n",
    "d = np.eye(2)        \n",
    "print d              \n",
    "                     \n",
    "e = np.random.random((2,2))\n",
    "print e                   \n",
    "                           \n",
    "    \n",
    "print \"\\n----------------------------------------------------------------------------\\n\"\n",
    "    \n",
    "a = np.array([[1,2,3,4], [5,6,7,8], [9,10,11,12]])\n",
    "\n",
    "b = a[:2, 1:3]\n",
    "\n",
    "print a[0, 1]   \n",
    "b[0, 0] = 77   \n",
    "print a[0, 1]   \n",
    "\n",
    "a = np.array([[1,2,3,4], [5,6,7,8], [9,10,11,12]])\n",
    "\n",
    "row_r1 = a[1, :]    \n",
    "row_r2 = a[1:2, :] \n",
    "print row_r1, row_r1.shape  \n",
    "print row_r2, row_r2.shape \n",
    "\n",
    "col_r1 = a[:, 1]\n",
    "col_r2 = a[:, 1:2]\n",
    "print col_r1, col_r1.shape  \n",
    "print col_r2, col_r2.shape                             \n"
   ]
  },
  {
   "cell_type": "markdown",
   "metadata": {},
   "source": [
    "## Numpy - Array Math"
   ]
  },
  {
   "cell_type": "code",
   "execution_count": 88,
   "metadata": {
    "collapsed": false
   },
   "outputs": [
    {
     "name": "stdout",
     "output_type": "stream",
     "text": [
      "[[  6.   8.]\n",
      " [ 10.  12.]]\n",
      "[[  6.   8.]\n",
      " [ 10.  12.]]\n",
      "[[-4. -4.]\n",
      " [-4. -4.]]\n",
      "[[-4. -4.]\n",
      " [-4. -4.]]\n",
      "[[  5.  12.]\n",
      " [ 21.  32.]]\n",
      "[[  5.  12.]\n",
      " [ 21.  32.]]\n",
      "[[ 0.2         0.33333333]\n",
      " [ 0.42857143  0.5       ]]\n",
      "[[ 0.2         0.33333333]\n",
      " [ 0.42857143  0.5       ]]\n",
      "[[ 1.          1.41421356]\n",
      " [ 1.73205081  2.        ]]\n",
      "\n",
      "----------------------------------------------------------------------------\n",
      "\n",
      "219\n",
      "219\n",
      "[29 67]\n",
      "[29 67]\n",
      "[[19 22]\n",
      " [43 50]]\n",
      "[[19 22]\n",
      " [43 50]]\n",
      "\n",
      "----------------------------------------------------------------------------\n",
      "\n",
      "10\n",
      "[4 6]\n",
      "[3 7]\n"
     ]
    }
   ],
   "source": [
    "x = np.array([[1,2],[3,4]], dtype=np.float64)\n",
    "y = np.array([[5,6],[7,8]], dtype=np.float64)\n",
    "\n",
    "print x + y\n",
    "print np.add(x, y)\n",
    "\n",
    "print x - y\n",
    "print np.subtract(x, y)\n",
    "\n",
    "print x * y\n",
    "print np.multiply(x, y)\n",
    "\n",
    "print x / y\n",
    "print np.divide(x, y)\n",
    "\n",
    "print np.sqrt(x)\n",
    "\n",
    "print \"\\n----------------------------------------------------------------------------\\n\"\n",
    "\n",
    "x = np.array([[1,2],[3,4]])\n",
    "y = np.array([[5,6],[7,8]])\n",
    "\n",
    "v = np.array([9,10])\n",
    "w = np.array([11, 12])\n",
    "\n",
    "print v.dot(w)\n",
    "print np.dot(v, w)\n",
    "\n",
    "print x.dot(v)\n",
    "print np.dot(x, v)\n",
    "\n",
    "\n",
    "print x.dot(y)\n",
    "print np.dot(x, y)\n",
    "\n",
    "print \"\\n----------------------------------------------------------------------------\\n\"\n",
    "\n",
    "x = np.array([[1,2],[3,4]])\n",
    "\n",
    "print np.sum(x)  # Compute sum of all elements; prints \"10\"\n",
    "print np.sum(x, axis=0)  # Compute sum of each column; prints \"[4 6]\"\n",
    "print np.sum(x, axis=1)  # Compute sum of each row; prints \"[3 7]\"\n",
    "\n"
   ]
  }
 ],
 "metadata": {
  "kernelspec": {
   "display_name": "Python 2",
   "language": "python",
   "name": "python2"
  },
  "language_info": {
   "codemirror_mode": {
    "name": "ipython",
    "version": 2
   },
   "file_extension": ".py",
   "mimetype": "text/x-python",
   "name": "python",
   "nbconvert_exporter": "python",
   "pygments_lexer": "ipython2",
   "version": "2.7.6"
  }
 },
 "nbformat": 4,
 "nbformat_minor": 0
}
