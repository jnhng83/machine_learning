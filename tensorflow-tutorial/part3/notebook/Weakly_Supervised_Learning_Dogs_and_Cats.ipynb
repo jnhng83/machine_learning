{
 "cells": [
  {
   "cell_type": "markdown",
   "metadata": {},
   "source": [
    "#### Load Libraries"
   ]
  },
  {
   "cell_type": "code",
   "execution_count": null,
   "metadata": {
    "collapsed": false
   },
   "outputs": [],
   "source": [
    "%matplotlib inline\n",
    "import matplotlib.pyplot as plt\n",
    "import os, glob\n",
    "from datetime import datetime\n",
    "import natsort\n",
    "import numpy as np\n",
    "from PIL import Image\n",
    "from skimage import color, data, io, img_as_float\n",
    "import scipy.misc as sm\n",
    "import cv2\n",
    "\n",
    "from keras import *\n",
    "from keras.models import Sequential\n",
    "from keras.layers import Convolution2D, ZeroPadding2D, MaxPooling2D\n",
    "from keras.layers.core import Flatten, Dense, Dropout, Lambda\n",
    "from keras import backend as K\n",
    "import h5py\n",
    "from keras.optimizers import SGD, Adam, Adadelta\n",
    "from keras.callbacks import *\n",
    "\n",
    "K.set_image_dim_ordering('th')"
   ]
  },
  {
   "cell_type": "markdown",
   "metadata": {},
   "source": [
    "#### Read Images and Preprocess"
   ]
  },
  {
   "cell_type": "code",
   "execution_count": null,
   "metadata": {
    "collapsed": false
   },
   "outputs": [],
   "source": [
    "dog_input_path = './data/dogs_input.npy'\n",
    "dog_label_path = './data/dogs_label.npy'\n",
    "cat_input_path = './data/cats_input.npy'\n",
    "cat_label_path = './data/cats_label.npy'\n",
    "\n",
    "dog_input = np.load(dog_input_path)\n",
    "dog_label = np.load(dog_label_path)\n",
    "cat_input = np.load(cat_input_path)\n",
    "cat_label = np.load(cat_label_path)\n",
    "\n",
    "dog_input = np.rollaxis(dog_input, 3, 1)\n",
    "cat_input = np.rollaxis(cat_input, 3, 1)\n",
    "\n",
    "train_dog_input = dog_input[:2500, :, :, :]\n",
    "test_dog_input = dog_input[2500:, :, : :]\n",
    "train_dog_label = dog_label[:2500, :]\n",
    "test_dog_label = dog_label[2500:, :]\n",
    "\n",
    "train_cat_input = cat_input[:2500, :, :, :]\n",
    "test_cat_input = cat_input[2500:, :, : :]\n",
    "train_cat_label = cat_label[:2500, :]\n",
    "test_cat_label = cat_label[2500:, :]\n",
    "\n",
    "train_X = np.vstack((train_dog_input, train_cat_input))\n",
    "train_Y = np.vstack((train_dog_label, train_cat_label))\n",
    "test_X = np.vstack((test_dog_input, test_cat_input))\n",
    "test_Y = np.vstack((test_dog_label, test_cat_label))\n",
    "\n",
    "rand_ind = np.random.permutation(np.shape(train_X)[0])\n",
    "train_X = train_X[rand_ind, :, :, :]\n",
    "train_Y = train_Y[rand_ind, :]\n",
    "\n",
    "print np.shape(train_X), np.shape(train_Y), np.shape(test_X), np.shape(test_Y)"
   ]
  },
  {
   "cell_type": "markdown",
   "metadata": {},
   "source": [
    "#### Model-related Functions"
   ]
  },
  {
   "cell_type": "code",
   "execution_count": null,
   "metadata": {
    "collapsed": true
   },
   "outputs": [],
   "source": [
    "def global_average_pooling(x):\n",
    "    return K.mean(x, axis = (2, 3))\n",
    "\n",
    "def global_average_pooling_shape(input_shape):\n",
    "    return input_shape[0:2]\n",
    "\n",
    "def VGG16_convolutions():\n",
    "    model = Sequential()\n",
    "    model.add(ZeroPadding2D((1,1),input_shape=(3,None,None)))\n",
    "    model.add(Convolution2D(64, 3, 3, activation='relu', name='conv1_1'))\n",
    "    model.add(ZeroPadding2D((1, 1)))\n",
    "    model.add(Convolution2D(64, 3, 3, activation='relu', name='conv1_2'))\n",
    "    model.add(MaxPooling2D((2, 2), strides=(2, 2)))\n",
    "\n",
    "    model.add(ZeroPadding2D((1, 1)))\n",
    "    model.add(Convolution2D(128, 3, 3, activation='relu', name='conv2_1'))\n",
    "    model.add(ZeroPadding2D((1, 1)))\n",
    "    model.add(Convolution2D(128, 3, 3, activation='relu', name='conv2_2'))\n",
    "    model.add(MaxPooling2D((2, 2), strides=(2, 2)))\n",
    "\n",
    "    model.add(ZeroPadding2D((1, 1)))\n",
    "    model.add(Convolution2D(256, 3, 3, activation='relu', name='conv3_1'))\n",
    "    model.add(ZeroPadding2D((1, 1)))\n",
    "    model.add(Convolution2D(256, 3, 3, activation='relu', name='conv3_2'))\n",
    "    model.add(ZeroPadding2D((1, 1)))\n",
    "    model.add(Convolution2D(256, 3, 3, activation='relu', name='conv3_3'))\n",
    "    model.add(MaxPooling2D((2, 2), strides=(2, 2)))\n",
    "\n",
    "    model.add(ZeroPadding2D((1, 1)))\n",
    "    model.add(Convolution2D(512, 3, 3, activation='relu', name='conv4_1'))\n",
    "    model.add(ZeroPadding2D((1, 1)))\n",
    "    model.add(Convolution2D(512, 3, 3, activation='relu', name='conv4_2'))\n",
    "    model.add(ZeroPadding2D((1, 1)))\n",
    "    model.add(Convolution2D(512, 3, 3, activation='relu', name='conv4_3'))\n",
    "    model.add(MaxPooling2D((2, 2), strides=(2, 2)))\n",
    "\n",
    "    model.add(ZeroPadding2D((1, 1)))\n",
    "    model.add(Convolution2D(512, 3, 3, activation='relu', name='conv5_1'))\n",
    "    model.add(ZeroPadding2D((1, 1)))\n",
    "    model.add(Convolution2D(512, 3, 3, activation='relu', name='conv5_2'))\n",
    "    model.add(ZeroPadding2D((1, 1)))\n",
    "    model.add(Convolution2D(512, 3, 3, activation='relu', name='conv5_3'))\n",
    "    return model\n",
    "\n",
    "def load_model_weights(model, weights_path):\n",
    "    print 'Loading model.'\n",
    "    f = h5py.File(weights_path)\n",
    "    for k in range(f.attrs['nb_layers']):\n",
    "        if k >= len(model.layers):\n",
    "            # we don't look at the last (fully-connected) layers in the savefile\n",
    "            break\n",
    "        g = f['layer_{}'.format(k)]\n",
    "        weights = [g['param_{}'.format(p)] for p in range(g.attrs['nb_params'])]\n",
    "        model.layers[k].set_weights(weights)\n",
    "        model.layers[k].trainable = False\n",
    "    f.close()\n",
    "    print 'Model loaded.'\n",
    "    return model\n",
    "\n",
    "def get_output_layer(model, layer_name):\n",
    "    # get the symbolic outputs of each \"key\" layer (we gave them unique names).\n",
    "    layer_dict = dict([(layer.name, layer) for layer in model.layers])\n",
    "    layer = layer_dict[layer_name]\n",
    "    return layer"
   ]
  },
  {
   "cell_type": "markdown",
   "metadata": {},
   "source": [
    "#### Load Model"
   ]
  },
  {
   "cell_type": "code",
   "execution_count": null,
   "metadata": {
    "collapsed": false
   },
   "outputs": [],
   "source": [
    "output_path = './output/'\n",
    "pre_trained_model_path = './pre_trained_model/'\n",
    "\n",
    "model = VGG16_convolutions()\n",
    "model = load_model_weights(model, pre_trained_model_path + \"/vgg16_weights.h5\")    \n",
    "\n",
    "model.add(Lambda(global_average_pooling, output_shape=global_average_pooling_shape))\n",
    "model.add(Dense(2, activation = 'softmax', init='uniform'))\n",
    "sgd = SGD(lr=0.01, decay=1e-6, momentum=0.5, nesterov=True)\n",
    "adam = Adam(lr=0.01, beta_1=0.9, beta_2=0.999, epsilon=1e-08, decay=0.0)\n",
    "adadelta = Adadelta(lr=1.0, rho=0.95, epsilon=1e-08, decay=1e-6)\n",
    "model.compile(loss = 'categorical_crossentropy', optimizer = adadelta, metrics=['accuracy'])"
   ]
  },
  {
   "cell_type": "markdown",
   "metadata": {},
   "source": [
    "#### Train Model"
   ]
  },
  {
   "cell_type": "code",
   "execution_count": null,
   "metadata": {
    "collapsed": false
   },
   "outputs": [],
   "source": [
    "print \"Training...\"\n",
    "\n",
    "i = datetime.now()\n",
    "time_str = i.strftime('%Y-%m-%d_%H:%M:%S')\n",
    "\n",
    "checkpoint_path=\"./checkpoint/dogs_and_cats_\"+time_str + \"_epoch_{epoch:02d}_acc_{val_acc:.2f}.hdf5\"\n",
    "checkpoint = ModelCheckpoint(checkpoint_path, monitor='val_acc', verbose=0, \n",
    "                             save_best_only=True, save_weights_only=False, mode='auto')\n",
    "model.fit(train_X, train_Y, nb_epoch=20, batch_size=64, verbose=1, validation_data=(test_X, test_Y), callbacks=[checkpoint])\n",
    "\n",
    "print \"Training Completed!!\""
   ]
  },
  {
   "cell_type": "markdown",
   "metadata": {},
   "source": [
    "#### Visualize Class Activiation Map of Test Set"
   ]
  },
  {
   "cell_type": "code",
   "execution_count": null,
   "metadata": {
    "collapsed": false
   },
   "outputs": [],
   "source": [
    "#model = models.load_model('./checkpoint/dogs_and_cats_2017-02-03_12:10:18_epoch_01_acc_0.91.hdf5')\n",
    "\n",
    "# Prepare Random Test Image\n",
    "test_ind = np.random.randint(np.shape(test_X)[0])\n",
    "test_input_img = test_X[test_ind:test_ind+1, :, :, :]\n",
    "test_rgb_img = np.rollaxis(test_X[test_ind, :, :, :], 0, 3)\n",
    "test_label = test_Y[test_ind, :]\n",
    "\n",
    "width = np.shape(test_rgb_img)[0]\n",
    "height = np.shape(test_rgb_img)[1]\n",
    "\n",
    "#Get the 512 input weights to the softmax.\n",
    "class_weights = model.layers[-1].get_weights()[0]\n",
    "final_conv_layer = get_output_layer(model, \"conv5_3\")\n",
    "get_output = K.function([model.layers[0].input], [final_conv_layer.output, model.layers[-1].output])\n",
    "[conv_outputs, predictions] = get_output([test_input_img])\n",
    "conv_outputs = conv_outputs[0, :, :, :]\n",
    "\n",
    "#Create the class activation map.\n",
    "cam = np.zeros(dtype = np.float32, shape = conv_outputs.shape[1:3])\n",
    "for i, w in enumerate(class_weights[:, 1]):\n",
    "        cam += w * conv_outputs[i, :, :]\n",
    "cam /= np.max(cam)\n",
    "cam = cv2.resize(cam, (height, width))\n",
    "heatmap = 255-cv2.applyColorMap(np.uint8(255*cam), cv2.COLORMAP_JET)\n",
    "heatmap[np.where(cam < 0.1)] = 0\n",
    "\n",
    "# Draw Original Image with Class Activation Map\n",
    "overlap_img = Image.blend(Image.fromarray(test_rgb_img), Image.fromarray(heatmap), 0.2)\n",
    "plt.imshow(np.array(overlap_img))\n",
    "\n",
    "# Print True and Predicted Label\n",
    "if test_label[0] > test_label[1]:\n",
    "    print \"Answer : Dog\"\n",
    "else: \n",
    "    print \"Answer : Cat\"\n",
    "    \n",
    "if predictions[0, 0] > predictions[0, 1]:\n",
    "    print \"Prediction : Dog\"\n",
    "else:\n",
    "    print \"Prediction : Cat\"\n",
    "    \n",
    "print('Dog probability : %0.2f%%, Cat probability : %0.2f%%' % (float(100*predictions[0,0]), float(100*predictions[0,1])))"
   ]
  }
 ],
 "metadata": {
  "kernelspec": {
   "display_name": "Python 2",
   "language": "python",
   "name": "python2"
  },
  "language_info": {
   "codemirror_mode": {
    "name": "ipython",
    "version": 2
   },
   "file_extension": ".py",
   "mimetype": "text/x-python",
   "name": "python",
   "nbconvert_exporter": "python",
   "pygments_lexer": "ipython2",
   "version": "2.7.12"
  }
 },
 "nbformat": 4,
 "nbformat_minor": 0
}
