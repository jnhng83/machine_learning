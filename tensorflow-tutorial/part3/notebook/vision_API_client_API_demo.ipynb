{
 "cells": [
  {
   "cell_type": "markdown",
   "metadata": {
    "deletable": true,
    "editable": true
   },
   "source": [
    "### Import Moudules"
   ]
  },
  {
   "cell_type": "code",
   "execution_count": null,
   "metadata": {
    "collapsed": true,
    "deletable": true,
    "editable": true
   },
   "outputs": [],
   "source": [
    "# -*- coding: utf-8 -*-\n",
    "%matplotlib inline\n",
    "from PIL import Image\n",
    "from PIL import ImageFont\n",
    "from PIL import ImageDraw\n",
    "\n",
    "import matplotlib.pyplot as plt\n",
    "import matplotlib.patches as patches\n",
    "\n",
    "import argparse\n",
    "import base64\n",
    "import os,glob\n",
    "import numpy as np\n",
    "\n",
    "# Imports the Google Cloud client library\n",
    "from google.cloud import vision\n",
    "from google.cloud.vision.feature import Feature\n",
    "from google.cloud.vision.feature import FeatureTypes"
   ]
  },
  {
   "cell_type": "markdown",
   "metadata": {
    "deletable": true,
    "editable": true
   },
   "source": [
    "### Generate Client Instance"
   ]
  },
  {
   "cell_type": "code",
   "execution_count": null,
   "metadata": {
    "collapsed": false,
    "deletable": true,
    "editable": true
   },
   "outputs": [],
   "source": [
    "# Instantiates a client\n",
    "vision_client = vision.Client()\n",
    "\n",
    "# Client Vision APIs Usage\n",
    "# https://googlecloudplatform.github.io/google-cloud-python/stable/vision-usage.html"
   ]
  },
  {
   "cell_type": "markdown",
   "metadata": {
    "deletable": true,
    "editable": true
   },
   "source": [
    "### Path to FaceTime Camera Pictures"
   ]
  },
  {
   "cell_type": "code",
   "execution_count": null,
   "metadata": {
    "collapsed": true,
    "deletable": true,
    "editable": true
   },
   "outputs": [],
   "source": [
    "facetime_img_path = '/Users/Vuno/Pictures/Photo Booth 보관함/Pictures'"
   ]
  },
  {
   "cell_type": "markdown",
   "metadata": {
    "deletable": true,
    "editable": true
   },
   "source": [
    "### Set Query Image"
   ]
  },
  {
   "cell_type": "code",
   "execution_count": null,
   "metadata": {
    "collapsed": false,
    "deletable": true,
    "editable": true
   },
   "outputs": [],
   "source": [
    "def show_img(file_name):\n",
    "    img = Image.open(file_name)\n",
    "    plt.imshow(np.asanyarray(img))\n",
    "    plt.axis('off')"
   ]
  },
  {
   "cell_type": "markdown",
   "metadata": {
    "deletable": true,
    "editable": true
   },
   "source": [
    "### Manual Detection"
   ]
  },
  {
   "cell_type": "code",
   "execution_count": null,
   "metadata": {
    "collapsed": false,
    "deletable": true,
    "editable": true
   },
   "outputs": [],
   "source": [
    "# The name of the image file to annotate\n",
    "file_name = sorted(glob.glob(facetime_img_path+'/*.jpg'), key=os.path.getmtime)[-1]\n",
    "#file_name = './test_images/running_dog.jpg'\n",
    "show_img(file_name)\n",
    "\n",
    "with open(file_name, 'rb') as image_file:\n",
    "    content = image_file.read()\n",
    "    image = vision_client.image(content=content)\n",
    "\n",
    "features = [Feature(FeatureTypes.FACE_DETECTION, 5),\n",
    "            Feature(FeatureTypes.LABEL_DETECTION, 10)]\n",
    "annotations = image.detect(features)\n",
    "print dir(annotations)"
   ]
  },
  {
   "cell_type": "code",
   "execution_count": null,
   "metadata": {
    "collapsed": false,
    "deletable": true,
    "editable": true
   },
   "outputs": [],
   "source": [
    "labels = annotations.labels\n",
    "faces = annotations.faces\n",
    "\n",
    "print (\"---------Image Labeling Results--------\")\n",
    "for label in labels:\n",
    "    print (\"Label : %s, \\t Confidence : %f\" % (label.description, label.score))\n",
    "\n",
    "print (\"---------Face Detection Results--------\")\n",
    "for face_id, face in enumerate(faces):\n",
    "    print (\"Face : %d, \\t Confidence : %f\" % (face_id+1, face.detection_confidence))\n",
    "    print (\"\\tJoy : %s\" %(face.joy) )\n",
    "    print (\"\\tSorrow : %s\" %(face.sorrow) )\n",
    "    print (\"\\tSurprise : %s\" %(face.surprise) )\n",
    "    print (\"\\tAnger : %s\" %(face.anger) )"
   ]
  },
  {
   "cell_type": "markdown",
   "metadata": {
    "deletable": true,
    "editable": true
   },
   "source": [
    "### Image Labeling"
   ]
  },
  {
   "cell_type": "code",
   "execution_count": null,
   "metadata": {
    "collapsed": false,
    "deletable": true,
    "editable": true
   },
   "outputs": [],
   "source": [
    "# The name of the image file to annotate\n",
    "file_name = sorted(glob.glob(facetime_img_path+'/*.jpg'), key=os.path.getmtime)[-1]\n",
    "#file_name = './test_images/running_dog.jpg'\n",
    "show_img(file_name)\n",
    "\n",
    "# Generate Client Instance\n",
    "vision_client = vision.Client()\n",
    "\n",
    "with open(file_name, 'rb') as image_file:\n",
    "    content = image_file.read()\n",
    "    image = vision_client.image(content=content)\n",
    "\n",
    "# Request using Client API\n",
    "labels = image.detect_labels(limit=5)\n",
    "\n",
    "for label in labels:\n",
    "    print label.description, label.score"
   ]
  },
  {
   "cell_type": "markdown",
   "metadata": {
    "deletable": true,
    "editable": true
   },
   "source": [
    "### Face Detection"
   ]
  },
  {
   "cell_type": "code",
   "execution_count": null,
   "metadata": {
    "collapsed": false,
    "deletable": true,
    "editable": true
   },
   "outputs": [],
   "source": [
    "# The name of the image file to annotate\n",
    "file_name = './test_images/queen.jpeg'\n",
    "show_img(file_name)\n",
    "\n",
    "with open(file_name, 'rb') as image_file:\n",
    "    content = image_file.read()\n",
    "    image = vision_client.image(content=content)\n",
    "    \n",
    "# Generate Client Instance\n",
    "vision_client = vision.Client()\n",
    "\n",
    "# Request using Client API\n",
    "faces = image.detect_faces(limit=10)    \n",
    "\n",
    "# Draw Face Detection Result\n",
    "fig, ax = plt.subplots(1)\n",
    "ax.imshow(np.asanyarray(Image.open(file_name)))\n",
    "\n",
    "for face in faces:\n",
    "    x0 = face.bounds.vertices[0].x_coordinate\n",
    "    y0 = face.bounds.vertices[0].y_coordinate\n",
    "    width = face.bounds.vertices[2].x_coordinate - x0\n",
    "    height = face.bounds.vertices[2].y_coordinate - y0\n",
    "    rect = patches.Rectangle((x0, y0), width, height, linewidth=1, edgecolor='g', facecolor='none')\n",
    "    ax.add_patch(rect)\n",
    "    ax.text((x0+width/5), y0, face.detection_confidence, fontsize=10, color='red')\n",
    "\n",
    "plt.show()"
   ]
  },
  {
   "cell_type": "markdown",
   "metadata": {
    "deletable": true,
    "editable": true
   },
   "source": [
    "### Landmark Detection"
   ]
  },
  {
   "cell_type": "code",
   "execution_count": null,
   "metadata": {
    "collapsed": false,
    "deletable": true,
    "editable": true
   },
   "outputs": [],
   "source": [
    "# The name of the image file to annotate\n",
    "file_name = './test_images/effel_tower.jpg'\n",
    "show_img(file_name)\n",
    "\n",
    "with open(file_name, 'rb') as image_file:\n",
    "    content = image_file.read()\n",
    "    image = vision_client.image(content=content)\n",
    "\n",
    "# Generate Client Instance\n",
    "vision_client = vision.Client()\n",
    "    \n",
    "# Request using Client API\n",
    "landmarks = image.detect_landmarks()\n",
    "\n",
    "for landmark in landmarks:\n",
    "    print landmark.description, landmark.score\n",
    "    print landmark.locations[0].latitude\n",
    "    print landmark.locations[0].longitude"
   ]
  },
  {
   "cell_type": "markdown",
   "metadata": {
    "deletable": true,
    "editable": true
   },
   "source": [
    "### Logo Detection"
   ]
  },
  {
   "cell_type": "code",
   "execution_count": null,
   "metadata": {
    "collapsed": false,
    "deletable": true,
    "editable": true
   },
   "outputs": [],
   "source": [
    "# The name of the image file to annotate\n",
    "file_name = './test_images/global_logo.jpg'\n",
    "show_img(file_name)\n",
    "\n",
    "with open(file_name, 'rb') as image_file:\n",
    "    content = image_file.read()\n",
    "    image = vision_client.image(content=content)\n",
    "\n",
    "# Generate Client Instance\n",
    "vision_client = vision.Client()\n",
    "    \n",
    "# Request using Client API\n",
    "logos = image.detect_logos(limit=20)\n",
    "\n",
    "for logo in logos:\n",
    "    print logo.description, logo.score"
   ]
  },
  {
   "cell_type": "markdown",
   "metadata": {
    "deletable": true,
    "editable": true
   },
   "source": [
    "### Text Detection"
   ]
  },
  {
   "cell_type": "code",
   "execution_count": null,
   "metadata": {
    "collapsed": false,
    "deletable": true,
    "editable": true
   },
   "outputs": [],
   "source": [
    "# The name of the image file to annotate\n",
    "file_name = './test_images/korean_text.jpg'\n",
    "#file_name = './test_images/japan_text.png'\n",
    "\n",
    "show_img(file_name)\n",
    "\n",
    "with open(file_name, 'rb') as image_file:\n",
    "    content = image_file.read()\n",
    "    image = vision_client.image(content=content)\n",
    "\n",
    "# Generate Client Instance\n",
    "vision_client = vision.Client()\n",
    "    \n",
    "# Request using Client API\n",
    "texts = image.detect_text(limit=1)\n",
    "\n",
    "for text in texts:\n",
    "    print text.locale\n",
    "    print text.description, text.score"
   ]
  },
  {
   "cell_type": "markdown",
   "metadata": {
    "deletable": true,
    "editable": true
   },
   "source": [
    "### Safe Search Detection"
   ]
  },
  {
   "cell_type": "code",
   "execution_count": null,
   "metadata": {
    "collapsed": false,
    "deletable": true,
    "editable": true
   },
   "outputs": [],
   "source": [
    "# The name of the image file to annotate\n",
    "\n",
    "file_name = './test_images/search_adult.jpg'\n",
    "#file_name = './test_images/search_spoof.jpg'\n",
    "#file_name = './test_images/search_medical.jpg'\n",
    "#file_name = './test_images/search_violent.jpg'\n",
    "\n",
    "show_img(file_name)\n",
    "\n",
    "with open(file_name, 'rb') as image_file:\n",
    "    content = image_file.read()\n",
    "    image = vision_client.image(content=content)\n",
    "\n",
    "# Generate Client Instance\n",
    "vision_client = vision.Client()\n",
    "\n",
    "safe_search_results = image.detect_safe_search()\n",
    "\n",
    "for search_result in safe_search_results:\n",
    "    print \"Adult Likelihood :\", search_result.adult\n",
    "    print \"Spoof Likelihood :\", search_result.spoof\n",
    "    print \"Medical Likelihood :\", search_result.medical\n",
    "    print \"Violence Likelihood :\", search_result.violence\n"
   ]
  }
 ],
 "metadata": {
  "kernelspec": {
   "display_name": "Python 2",
   "language": "python",
   "name": "python2"
  },
  "language_info": {
   "codemirror_mode": {
    "name": "ipython",
    "version": 2
   },
   "file_extension": ".py",
   "mimetype": "text/x-python",
   "name": "python",
   "nbconvert_exporter": "python",
   "pygments_lexer": "ipython2",
   "version": "2.7.10"
  }
 },
 "nbformat": 4,
 "nbformat_minor": 2
}
